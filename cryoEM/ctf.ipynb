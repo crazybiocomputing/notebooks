{
 "cells": [
  {
   "cell_type": "code",
   "execution_count": null,
   "id": "e55ff886-8991-447e-9a38-ed0ef62efd39",
   "metadata": {},
   "outputs": [],
   "source": [
    "import numpy as np\n",
    "import matplotlib.pyplot as plt\n",
    "\n",
    "from ipywidgets import FloatSlider\n",
    "from ipywidgets import interact\n",
    "import ipywidgets as widgets"
   ]
  },
  {
   "cell_type": "markdown",
   "id": "efe3bfb8-30c2-4667-8acf-426da39c9423",
   "metadata": {},
   "source": [
    "$$\n",
    "\\chi({q}) = \\frac{2\\pi}{\\lambda} \\left( \\frac{1}{4} C_s \\lambda^4 q^4 - \\frac{1}{2} \\Delta f \\lambda^2 q^2 \\right)\n",
    "$$\n",
    "\n",
    "may be simplified by...\n",
    "$$\n",
    "\\chi({q}) = \\pi \\lambda q^2 \\left( \\frac{1}{2} C_s \\lambda^2 q^2 - \\Delta f \\right)\n",
    "$$"
   ]
  },
  {
   "cell_type": "markdown",
   "id": "1f44cfcf-cd70-4a9a-aadf-5e418343848d",
   "metadata": {},
   "source": [
    "## Parameters"
   ]
  },
  {
   "cell_type": "code",
   "execution_count": null,
   "id": "a176fa40-c8ae-49c2-8d6c-6e7b9fccb028",
   "metadata": {},
   "outputs": [],
   "source": [
    "size = 257 # Image Size\n",
    "resolution = 0.8\n",
    "kV = 300.0\n",
    "cs = 2.7 * 1e7  # input in mm converted in angstrom\n",
    "amplitudeContrast = 0.1"
   ]
  },
  {
   "cell_type": "markdown",
   "id": "bd798c7b-b971-4773-bb7b-d4ff56da745c",
   "metadata": {},
   "source": [
    "## Calculating wavelength from electron beam energy (keV) "
   ]
  },
  {
   "cell_type": "code",
   "execution_count": null,
   "id": "ef8ca269-94e6-4215-918c-8a84b3ac9fca",
   "metadata": {},
   "outputs": [],
   "source": [
    "import scipy.constants\n",
    "\n",
    "h = scipy.constants.Planck\n",
    "e = scipy.constants.elementary_charge\n",
    "c = scipy.constants.speed_of_light\n",
    "m0 = scipy.constants.electron_mass\n",
    "\n",
    "U = kV * 1000 # Convert kiloVolt in Volt\n",
    "\n",
    "wavelength = h / np.sqrt(2.0 * m0 * e * U) / np.sqrt( 1 + e * U / (2 * m0 * c**2)) * 1e10"
   ]
  },
  {
   "cell_type": "code",
   "execution_count": null,
   "id": "e2cba689-1bc0-4e90-b6a7-e13c62047043",
   "metadata": {},
   "outputs": [],
   "source": [
    "print(h,e,c,m0)\n",
    "print(wavelength)"
   ]
  },
  {
   "cell_type": "markdown",
   "id": "b1cc6d1e-3afc-4e89-bbf3-01299bcb3557",
   "metadata": {},
   "source": [
    "## CTF in 1D - Defocus"
   ]
  },
  {
   "cell_type": "code",
   "execution_count": null,
   "id": "16927a19-78bd-4bd3-8e86-ab0ca013bbd4",
   "metadata": {},
   "outputs": [],
   "source": [
    "%matplotlib inline\n",
    "\n",
    "widget = widgets.FloatSlider(\n",
    "    value=5000,\n",
    "    min=5000.0,\n",
    "    max=10000.0,\n",
    "    step=5,\n",
    "    description='Defocus (A):'\n",
    ")\n",
    "\n",
    "def plot(defocus):\n",
    "    ax = np.linspace(0, 1.0/(2.0 * resolution), size)\n",
    "    w1 = np.sqrt(1.0 - amplitudeContrast**2)\n",
    "    chi = np.pi * wavelength * ax**2 * (cs * wavelength**2 * ax**2 / 2.0 - defocus)\n",
    "    plt.plot(ax, w1 * np.sin(chi))\n",
    "\n",
    "widgets.interact(plot,defocus = widget)"
   ]
  },
  {
   "cell_type": "markdown",
   "id": "29c72c14-0e2a-4f6c-8d46-e22413b88a17",
   "metadata": {},
   "source": [
    "## CTF in 2D - Defocus\n",
    "\n",
    "### Parameters"
   ]
  },
  {
   "cell_type": "code",
   "execution_count": null,
   "id": "93f6c973-6b9d-4951-969d-dbfa7734691e",
   "metadata": {},
   "outputs": [],
   "source": [
    "widget = widgets.FloatSlider(\n",
    "    value=5000,\n",
    "    min=5000.0,\n",
    "    max=10000.0,\n",
    "    step=5,\n",
    "    description='Defocus (A):'\n",
    ")\n",
    "\n",
    "def plot2d(defocus):\n",
    "    ax = np.linspace(-1.0 / (2.0 * resolution), 1.0/(2.0 * resolution), size)\n",
    "    mx, my = np.meshgrid(ax, ax)\n",
    "    mag = np.sqrt(mx ** 2 + my ** 2)\n",
    "    w1 = np.sqrt(1.0 - amplitudeContrast**2)\n",
    "    w2 = amplitudeContrast\n",
    "    chi = 2 * np.pi * cs * wavelength**3 * mag**4 / 4.0 - 2.0 * np.pi * defocus * wavelength * mag**2 / 2.0\n",
    "    plt.imshow(-w1 * np.sin(chi) - w2 * np.cos(chi),cmap='gray')\n",
    "\n",
    "widgets.interact(plot2d,defocus = widget)"
   ]
  },
  {
   "cell_type": "markdown",
   "id": "2044d0e0-d873-4566-8536-5b6685973948",
   "metadata": {},
   "source": [
    "## CTF in 2D - Defocus + astigmatism"
   ]
  },
  {
   "cell_type": "markdown",
   "id": "995a73b2-05e3-4fb8-82ee-2a4f0b46ee57",
   "metadata": {},
   "source": [
    "$$\n",
    "\\chi({q,\\alpha}) = \\frac{2\\pi}{\\lambda} \\left( \\frac{1}{4} C_s \\lambda^4 q^4 - \\frac{1}{2} \\Delta f(\\alpha) \\lambda^2 q^2 \\right)\n",
    "$$\n",
    "\n",
    "avec\n",
    "\n",
    "$$\n",
    "\\Delta f(\\alpha) = \\Delta f - A_1 cos(2(\\alpha - \\alpha_1) )\n",
    "$$\n"
   ]
  },
  {
   "cell_type": "markdown",
   "id": "66183e4c-395f-45c1-9d91-7916fbaa0a27",
   "metadata": {},
   "source": [
    "### Parameters"
   ]
  },
  {
   "cell_type": "code",
   "execution_count": null,
   "id": "bdd72ad5-97f3-4671-8147-5aea13e7db17",
   "metadata": {},
   "outputs": [],
   "source": [
    "defocusU = 7000\n",
    "defocusV = 5000\n",
    "sim_ctf_defocus_stdev = 0.1\n",
    "angleAstigmatism = 30.0 / 180.0 * np.pi # converted in radians"
   ]
  },
  {
   "cell_type": "markdown",
   "id": "98d3d6b4-ef3b-45f9-80e4-ef7fc8c844e8",
   "metadata": {},
   "source": [
    "## Init image with frequency magnitude"
   ]
  },
  {
   "cell_type": "code",
   "execution_count": null,
   "id": "e2134c7d-24b2-4bc9-bdea-281d1fe0a1ad",
   "metadata": {},
   "outputs": [],
   "source": [
    "ax = np.linspace(-1.0 / (2.0 * resolution), 1.0/(2.0 * resolution), size)\n",
    "mx, my = np.meshgrid(ax, ax)\n",
    "r2 = mx ** 2 + my ** 2\n",
    "r = np.sqrt(r2)\n",
    "angleFrequency = np.arctan2(my, mx)"
   ]
  },
  {
   "cell_type": "code",
   "execution_count": null,
   "id": "6824d078-637e-4303-86bd-42f9d799a9b2",
   "metadata": {},
   "outputs": [],
   "source": [
    "plt.imshow(r2, cmap='gray')"
   ]
  },
  {
   "cell_type": "code",
   "execution_count": null,
   "id": "c10fe7d6-14a2-4681-b57e-a35643ee9173",
   "metadata": {},
   "outputs": [],
   "source": [
    "ac = amplitudeContrast\n",
    "pc = np.sqrt(1.0 - ac**2)\n",
    "K1 = np.pi / 2.0 * cs * wavelength**3\n",
    "K2 = np.pi * wavelength\n",
    "\n",
    "angle = angleFrequency - angleAstigmatism\n",
    "local_defocus = (defocusU + defocusV + (defocusU - defocusV) * np.cos(2.0 * angle) ) / 2.0\n",
    "\n",
    "chi2d = K1 * r2**2 - K2 * r2 * local_defocus\n",
    "\n",
    "hFourier = -pc * np.sin(chi2d) - ac * np.cos(chi2d)"
   ]
  },
  {
   "cell_type": "code",
   "execution_count": null,
   "id": "d77b0b29-f0f0-4651-aa4a-a81feba3c710",
   "metadata": {},
   "outputs": [],
   "source": [
    "print(chi2d.shape)\n",
    "plt.imshow(chi2d,cmap='gray')"
   ]
  },
  {
   "cell_type": "code",
   "execution_count": null,
   "id": "6a524dbf-9a0c-44cf-bbf1-939c8b8b80c3",
   "metadata": {},
   "outputs": [],
   "source": [
    "plt.imshow(hFourier,cmap='gray')"
   ]
  },
  {
   "cell_type": "markdown",
   "id": "ef0982e7-f263-4f89-999b-0c4e2e4f790d",
   "metadata": {},
   "source": [
    "## CTF in 2D - Envelope Function"
   ]
  },
  {
   "cell_type": "code",
   "execution_count": null,
   "id": "bde95bee-4ba0-48b7-b570-a2f5d5cbc261",
   "metadata": {},
   "outputs": [],
   "source": [
    "# Enveloppe function\n",
    "valueNyquist = 0.001\n",
    "bFactor=0.0"
   ]
  },
  {
   "cell_type": "code",
   "execution_count": null,
   "id": "60a407bc-b2f2-498a-b1ea-4ff0b6c56fba",
   "metadata": {},
   "outputs": [],
   "source": [
    "frequency = 1.0 / resolution\n",
    "\n",
    "decay = np.sqrt(-np.log(valueNyquist)) * 2.0 * resolution\n",
    "envelope = np.exp(-frequency * decay ** 2 * r2)\n",
    "result = hFourier * envelope"
   ]
  },
  {
   "cell_type": "code",
   "execution_count": null,
   "id": "2b1804ce-6520-45b2-a863-7f453b5794f8",
   "metadata": {},
   "outputs": [],
   "source": [
    "plt.axis('off')\n",
    "plt.imshow(result,cmap='gray')\n",
    "plt.savefig('test.png',  bbox_inches='tight',pad_inches = 0)"
   ]
  },
  {
   "cell_type": "code",
   "execution_count": null,
   "id": "f9d9b2f0-a701-4107-8184-15ad9d9fe01f",
   "metadata": {},
   "outputs": [],
   "source": [
    "plt.plot(result[128])"
   ]
  },
  {
   "cell_type": "code",
   "execution_count": null,
   "id": "58536bc8-3c94-4b0d-8e2c-f4b3132f8d83",
   "metadata": {},
   "outputs": [],
   "source": []
  }
 ],
 "metadata": {
  "kernelspec": {
   "display_name": "Python 3 (ipykernel)",
   "language": "python",
   "name": "python3"
  },
  "language_info": {
   "codemirror_mode": {
    "name": "ipython",
    "version": 3
   },
   "file_extension": ".py",
   "mimetype": "text/x-python",
   "name": "python",
   "nbconvert_exporter": "python",
   "pygments_lexer": "ipython3",
   "version": "3.8.10"
  }
 },
 "nbformat": 4,
 "nbformat_minor": 5
}
