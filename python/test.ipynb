{
  "nbformat": 4,
  "nbformat_minor": 0,
  "metadata": {
    "colab": {
      "name": "fourier_series.ipynb",
      "provenance": [],
      "collapsed_sections": []
    },
    "kernelspec": {
      "name": "python3",
      "display_name": "Python 3"
    }
  },
  "cells": [
    {
      "cell_type": "code",
      "metadata": {
        "id": "L0BvWWkgE4ar",
        "colab_type": "code",
        "colab": {}
      },
      "source": [
        "import math\n",
        "import matplotlib.pyplot as plt\n",
        "\n",
        "#Init\n",
        "x = range(200)\n",
        "\n",
        "\n",
        "def genData(x,amplitude,frequency):\n",
        "  y = [0] * len(x)\n",
        "  for i in x:\n",
        "    angle = i / 0.4 * frequency\n",
        "    rad = math.radians(angle)\n",
        "    y[i] = amplitude * math.sin(rad)\n",
        "  return y\n",
        "\n",
        "fig = plt.figure()  # an empty figure with no axes\n",
        "fig.suptitle('No axes on this figure')  # Add a title so we know which it is\n",
        "\n",
        "fig, ax_lst = plt.subplots(0, 0)  # a figure with a 2x2 grid of Axes\n",
        "\n",
        "def add(a,b):\n",
        "  c = [0.0] * len(a)\n",
        "  for i,v in enumerate(a):\n",
        "    c[i] = a[i] + b[i]\n",
        "  return c\n",
        "\n",
        "f1 = genData(x,1.0,1.0)\n",
        "f3 = genData(x,1/3.0,3.0)\n",
        "f5 = genData(x,1/5.0,5.0)\n",
        "f7 = genData(x,1/7.0,7.0)\n",
        "y = add(f1, add(add(f3,f5),f7))\n",
        "\n",
        "# Draw plots\n",
        "plt.plot(x, f1, label='f1')\n",
        "plt.plot(x, f3, label='f3')\n",
        "plt.plot(x, f5, label='f5')\n",
        "plt.plot(x, f7, label='f7')\n",
        "plt.plot(x, y, label='total')\n",
        "\n",
        "\n",
        "plt.xlabel('x label')\n",
        "plt.ylabel('y label')\n",
        "\n",
        "plt.title(\"sin(theta)\")\n",
        "\n",
        "plt.legend()\n",
        "\n",
        "plt.show()"
      ],
      "execution_count": 0,
      "outputs": []
    }
  ]
}
